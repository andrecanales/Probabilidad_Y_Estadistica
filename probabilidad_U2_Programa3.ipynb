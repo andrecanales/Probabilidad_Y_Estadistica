{
  "nbformat": 4,
  "nbformat_minor": 0,
  "metadata": {
    "colab": {
      "provenance": [],
      "authorship_tag": "ABX9TyN7+0coDzltRmbugOlHvbvP",
      "include_colab_link": true
    },
    "kernelspec": {
      "name": "python3",
      "display_name": "Python 3"
    },
    "language_info": {
      "name": "python"
    }
  },
  "cells": [
    {
      "cell_type": "markdown",
      "metadata": {
        "id": "view-in-github",
        "colab_type": "text"
      },
      "source": [
        "<a href=\"https://colab.research.google.com/github/andrecanales/Probabilidad_Y_Estadistica/blob/main/probabilidad_U2_Programa3.ipynb\" target=\"_parent\"><img src=\"https://colab.research.google.com/assets/colab-badge.svg\" alt=\"Open In Colab\"/></a>"
      ]
    },
    {
      "cell_type": "code",
      "execution_count": 2,
      "metadata": {
        "colab": {
          "base_uri": "https://localhost:8080/"
        },
        "id": "_rliayrKocso",
        "outputId": "374ee36c-b0e2-410b-b64f-e02327dbcec5"
      },
      "outputs": [
        {
          "output_type": "stream",
          "name": "stdout",
          "text": [
            "El número de formas en que se pueden elegir los asistentes para calificar las preguntas del examen es: 210.0\n"
          ]
        }
      ],
      "source": [
        "import math\n",
        "\n",
        "def calcular_combinaciones(n, r):\n",
        "    combinaciones = math.factorial(n) / (math.factorial(r) * math.factorial(n - r))\n",
        "    return combinaciones\n",
        "\n",
        "n = 10  # Tamaño del grupo de asistentes\n",
        "r = 4   # Tamaño del subconjunto para calificar las preguntas\n",
        "\n",
        "num_combinaciones = calcular_combinaciones(n, r)\n",
        "\n",
        "print(\"El número de formas en que se pueden elegir los asistentes para calificar las preguntas del examen es:\", num_combinaciones)"
      ]
    }
  ]
}