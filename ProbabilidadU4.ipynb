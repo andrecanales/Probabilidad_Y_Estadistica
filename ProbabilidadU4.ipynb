{
  "nbformat": 4,
  "nbformat_minor": 0,
  "metadata": {
    "colab": {
      "provenance": [],
      "authorship_tag": "ABX9TyPOngeugdkBLs4ybYMbcj6O",
      "include_colab_link": true
    },
    "kernelspec": {
      "name": "python3",
      "display_name": "Python 3"
    },
    "language_info": {
      "name": "python"
    }
  },
  "cells": [
    {
      "cell_type": "markdown",
      "metadata": {
        "id": "view-in-github",
        "colab_type": "text"
      },
      "source": [
        "<a href=\"https://colab.research.google.com/github/andrecanales/Probabilidad_Y_Estadistica/blob/main/ProbabilidadU4.ipynb\" target=\"_parent\"><img src=\"https://colab.research.google.com/assets/colab-badge.svg\" alt=\"Open In Colab\"/></a>"
      ]
    },
    {
      "cell_type": "markdown",
      "source": [
        "##**Distribución Binomial**##"
      ],
      "metadata": {
        "id": "MjUJKt9y4x0T"
      }
    },
    {
      "cell_type": "code",
      "source": [
        "from scipy.stats import norm\n",
        "\n",
        "media = 70\n",
        "desviacion_estandar = 4\n",
        "\n",
        "distribucion_normal = norm(loc=media, scale=desviacion_estandar)\n",
        "\n",
        "probabilidad = distribucion_normal.cdf(72) - distribucion_normal.cdf(68)\n",
        "\n",
        "print(\"La probabilidad de estudiantes que pesan más de 68 y menos de 72 kg es:\", probabilidad)\n",
        "\n",
        "cantidad_estudiantes = round(probabilidad * 500)\n",
        "\n",
        "print(\"La cantidad de estudiantes que pesan más de 68 y menos de 72 kg es:\", cantidad_estudiantes)"
      ],
      "metadata": {
        "colab": {
          "base_uri": "https://localhost:8080/"
        },
        "id": "GdliAKMR4cBG",
        "outputId": "ce372d6c-1952-4bf9-ec2d-68dfd5b3b84a"
      },
      "execution_count": null,
      "outputs": [
        {
          "output_type": "stream",
          "name": "stdout",
          "text": [
            "La probabilidad de estudiantes que pesan más de 68 y menos de 72 kg es: 0.38292492254802624\n",
            "La cantidad de estudiantes que pesan más de 68 y menos de 72 kg es: 191\n"
          ]
        }
      ]
    },
    {
      "cell_type": "code",
      "source": [],
      "metadata": {
        "id": "e6I-KyVG4fhb"
      },
      "execution_count": null,
      "outputs": []
    }
  ]
}